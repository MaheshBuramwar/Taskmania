{
 "cells": [
  {
   "cell_type": "code",
   "execution_count": 1,
   "id": "7818add3",
   "metadata": {},
   "outputs": [],
   "source": [
    "import pandas as pd\n",
    "import joblib\n",
    "from sklearn.feature_extraction.text import TfidfVectorizer\n",
    "import re\n",
    "\n"
   ]
  },
  {
   "cell_type": "code",
   "execution_count": 2,
   "id": "4fa1d021",
   "metadata": {},
   "outputs": [],
   "source": [
    "# Load the saved model and vectorizer\n",
    "model = joblib.load('../Desktop/text_classification_model8.pkl')\n",
    "vectorizer = joblib.load('../Desktop/tfidf_vectorizer8.pkl')\n",
    "\n"
   ]
  },
  {
   "cell_type": "code",
   "execution_count": 3,
   "id": "d4306225",
   "metadata": {},
   "outputs": [],
   "source": [
    "def clean_text(text):\n",
    "    text = re.sub(r'http\\S+', '', text)  # Remove links\n",
    "    text = re.sub(r'@\\w+', '', text)  # Remove mentions\n",
    "    text = re.sub(r'#\\w+', '', text)  # Remove hashtags\n",
    "    text = re.sub(r'[^\\w\\s]', '', text)  # Remove punctuation\n",
    "    text = re.sub(r'\\d+', '', text)  # Remove digits\n",
    "    text = text.lower()  # Convert to lowercase\n",
    "    return text\n",
    "\n"
   ]
  },
  {
   "cell_type": "code",
   "execution_count": 4,
   "id": "d5064301",
   "metadata": {},
   "outputs": [],
   "source": [
    "# Function to make predictions\n",
    "def predict_category(text):\n",
    "    cleaned_text = clean_text(text)\n",
    "    text_tfidf = vectorizer.transform([cleaned_text])\n",
    "    prediction = model.predict(text_tfidf)\n",
    "    return prediction[0]"
   ]
  },
  {
   "cell_type": "code",
   "execution_count": 5,
   "id": "040b6591",
   "metadata": {},
   "outputs": [
    {
     "name": "stdout",
     "output_type": "stream",
     "text": [
      "Text: Winter 2023 sunglasses for men and women\n",
      "Predicted Category: Ecommerce\n",
      "\n",
      "Text: India’s Premium English Learning Destination\n",
      "Predicted Category: Education\n",
      "\n",
      "Text: Gaming Power with Lenovo\n",
      "Predicted Category: Technology\n",
      "\n",
      "Text: Book unforgettable experience\n",
      "Predicted Category: Travel\n",
      "\n",
      "Text: Ultimate robot shooter\n",
      "Predicted Category: Other\n",
      "\n",
      "Text: Breaking news on the presidential election\n",
      "Predicted Category: News\n",
      "\n",
      "Text: The latest trends in healthcare technology\n",
      "Predicted Category: Healthcare\n",
      "\n",
      "Text: Investment tips for 2023\n",
      "Predicted Category: Finance\n",
      "\n",
      "Text: Top 10 travel destinations for 2023\n",
      "Predicted Category: Technology\n",
      "\n",
      "Text: Highlights from last night's game\n",
      "Predicted Category: Other\n",
      "\n"
     ]
    }
   ],
   "source": [
    "# Test the prediction function\n",
    "sample_texts = [\n",
    "    \"Winter 2023 sunglasses for men and women\",\n",
    "    \"India’s Premium English Learning Destination\",\n",
    "    \"Gaming Power with Lenovo\",\n",
    "    \"Book unforgettable experience\",\n",
    "    \"Ultimate robot shooter\",\n",
    "    \"Breaking news on the presidential election\",\n",
    "    \"The latest trends in healthcare technology\",\n",
    "    \"Investment tips for 2023\",\n",
    "    \"Top 10 travel destinations for 2023\",\n",
    "    \"Highlights from last night's game\"\n",
    "]\n",
    "\n",
    "for text in sample_texts:\n",
    "    category = predict_category(text)\n",
    "    print(f'Text: {text}\\nPredicted Category: {category}\\n')\n"
   ]
  },
  {
   "cell_type": "code",
   "execution_count": null,
   "id": "4e9cc4a5",
   "metadata": {},
   "outputs": [],
   "source": []
  }
 ],
 "metadata": {
  "kernelspec": {
   "display_name": "Python [conda env:dsml20_env1]",
   "language": "python",
   "name": "conda-env-dsml20_env1-py"
  },
  "language_info": {
   "codemirror_mode": {
    "name": "ipython",
    "version": 3
   },
   "file_extension": ".py",
   "mimetype": "text/x-python",
   "name": "python",
   "nbconvert_exporter": "python",
   "pygments_lexer": "ipython3",
   "version": "3.9.16"
  }
 },
 "nbformat": 4,
 "nbformat_minor": 5
}
