{
 "cells": [
  {
   "cell_type": "code",
   "execution_count": 1,
   "id": "4c9cb7c5",
   "metadata": {},
   "outputs": [],
   "source": [
    "import pandas as pd\n",
    "import re\n"
   ]
  },
  {
   "cell_type": "code",
   "execution_count": 2,
   "id": "778c3142",
   "metadata": {},
   "outputs": [],
   "source": [
    "# Load the dataset\n",
    "file_path = '../Downloads/dataset.csv'\n",
    "data = pd.read_csv(file_path)\n"
   ]
  },
  {
   "cell_type": "code",
   "execution_count": 3,
   "id": "a38a2fff",
   "metadata": {},
   "outputs": [],
   "source": [
    "# Convert all entries in the 'text' column to strings\n",
    "data['text'] = data['text'].astype(str)\n",
    "\n",
    "# Function to clean the text\n",
    "def clean_text(text):\n",
    "    text = re.sub(r'http\\S+', '', text)  # Remove links\n",
    "    text = re.sub(r'@\\w+', '', text)  # Remove mentions\n",
    "    text = re.sub(r'#\\w+', '', text)  # Remove hashtags\n",
    "    text = re.sub(r'[^\\w\\s]', '', text)  # Remove punctuation\n",
    "    text = re.sub(r'\\d+', '', text)  # Remove digits\n",
    "    text = text.lower()  # Convert to lowercase\n",
    "    return text"
   ]
  },
  {
   "cell_type": "code",
   "execution_count": 4,
   "id": "1b579e1f",
   "metadata": {},
   "outputs": [],
   "source": [
    "# Apply the cleaning function to the dataset\n",
    "data['cleaned_text'] = data['text'].apply(clean_text)\n"
   ]
  },
  {
   "cell_type": "code",
   "execution_count": 6,
   "id": "41e66216",
   "metadata": {},
   "outputs": [],
   "source": [
    "labeled_data = {\n",
    "    'text': [\n",
    "        \"Winter 2023 sunglasses for men and women\",  # Ecommerce\n",
    "        \"India’s Premium English Learning Destination\",  # Education\n",
    "        \"Gaming Power with Lenovo\",  # Technology\n",
    "        \"Book unforgettable experience\",  # Travel\n",
    "        \"Ultimate robot shooter\",  # Other\n",
    "        \"Breaking news on the presidential election\",  # News\n",
    "        \"The latest trends in healthcare technology\",  # Healthcare\n",
    "        \"Investment tips for 2023\",  # Finance\n",
    "        \"Top 10 travel destinations for 2023\",  # Travel\n",
    "        \"Highlights from last night's game\",  # Sports\n",
    "        \"Top movies to watch this weekend\",  # Entertainment\n",
    "        \"Latest updates in the stock market\",  # Finance\n",
    "        \"Health benefits of regular exercise\",  # Healthcare\n",
    "        \"The new iPhone 13 release\",  # Technology\n",
    "        \"Master Python programming in 30 days\",  # Education\n",
    "        \"Exclusive deals on summer clothing\",  # Ecommerce\n",
    "        \"Live concert happening this weekend\",  # Entertainment\n",
    "        \"The future of artificial intelligence\",  # Technology\n",
    "        \"New treatments for diabetes\",  # Healthcare\n",
    "        \"Daily weather forecast\",  # News\n",
    "        \"Learn English with the best tutors\",  # Education\n",
    "        \"Best laptops for programming\",  # Technology\n",
    "        \"Summer sale on electronics\",  # Ecommerce\n",
    "        \"Latest breakthroughs in cancer research\",  # Healthcare\n",
    "        \"Live sports events this weekend\",  # Sports\n",
    "        \"How to save for retirement\",  # Finance\n",
    "        \"Explore the world's best destinations\",  # Travel\n",
    "        \"Breaking: Major political scandal\",  # News\n",
    "        \"Top 10 movies to watch this year\",  # Entertainment\n",
    "        \"A new kind of video game experience\",  # Other\n",
    "    ],\n",
    "    'category': [\n",
    "        \"Ecommerce\",\n",
    "        \"Education\",\n",
    "        \"Technology\",\n",
    "        \"Travel\",\n",
    "        \"Other\",\n",
    "        \"News\",\n",
    "        \"Healthcare\",\n",
    "        \"Finance\",\n",
    "        \"Travel\",\n",
    "        \"Sports\",\n",
    "        \"Entertainment\",\n",
    "        \"Finance\",\n",
    "        \"Healthcare\",\n",
    "        \"Technology\",\n",
    "        \"Education\",\n",
    "        \"Ecommerce\",\n",
    "        \"Entertainment\",\n",
    "        \"Technology\",\n",
    "        \"Healthcare\",\n",
    "        \"News\",\n",
    "        \"Education\",\n",
    "        \"Technology\",\n",
    "        \"Ecommerce\",\n",
    "        \"Healthcare\",\n",
    "        \"Sports\",\n",
    "        \"Finance\",\n",
    "        \"Travel\",\n",
    "        \"News\",\n",
    "        \"Entertainment\",\n",
    "        \"Other\",\n",
    "    ]\n",
    "}\n",
    "\n"
   ]
  },
  {
   "cell_type": "code",
   "execution_count": 7,
   "id": "a2d311f7",
   "metadata": {},
   "outputs": [],
   "source": [
    "labeled_df = pd.DataFrame(labeled_data)\n",
    "\n",
    "# Save the labeled data for future use\n",
    "labeled_df.to_csv('../Desktop/labeled_data6.csv', index=False)\n"
   ]
  },
  {
   "cell_type": "code",
   "execution_count": 8,
   "id": "2a89faeb",
   "metadata": {},
   "outputs": [
    {
     "name": "stdout",
     "output_type": "stream",
     "text": [
      "                                           text    category\n",
      "0      Winter 2023 sunglasses for men and women   Ecommerce\n",
      "1  India’s Premium English Learning Destination   Education\n",
      "2                      Gaming Power with Lenovo  Technology\n",
      "3                 Book unforgettable experience      Travel\n",
      "4                        Ultimate robot shooter       Other\n"
     ]
    }
   ],
   "source": [
    "# Print the labeled data to check\n",
    "print(labeled_df.head())"
   ]
  },
  {
   "cell_type": "code",
   "execution_count": null,
   "id": "0e7d5a0d",
   "metadata": {},
   "outputs": [],
   "source": []
  }
 ],
 "metadata": {
  "kernelspec": {
   "display_name": "Python [conda env:dsml20_env1]",
   "language": "python",
   "name": "conda-env-dsml20_env1-py"
  },
  "language_info": {
   "codemirror_mode": {
    "name": "ipython",
    "version": 3
   },
   "file_extension": ".py",
   "mimetype": "text/x-python",
   "name": "python",
   "nbconvert_exporter": "python",
   "pygments_lexer": "ipython3",
   "version": "3.9.16"
  }
 },
 "nbformat": 4,
 "nbformat_minor": 5
}
